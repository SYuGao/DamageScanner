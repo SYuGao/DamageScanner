{
 "cells": [
  {
   "cell_type": "markdown",
   "metadata": {},
   "source": [
    "### Load Damagescanner package"
   ]
  },
  {
   "cell_type": "code",
   "execution_count": 1,
   "metadata": {},
   "outputs": [
    {
     "ename": "ModuleNotFoundError",
     "evalue": "No module named 'damagescanner'",
     "output_type": "error",
     "traceback": [
      "\u001b[1;31m---------------------------------------------------------------------------\u001b[0m",
      "\u001b[1;31mModuleNotFoundError\u001b[0m                       Traceback (most recent call last)",
      "Cell \u001b[1;32mIn[1], line 16\u001b[0m\n\u001b[0;32m     12\u001b[0m \u001b[38;5;28;01mimport\u001b[39;00m \u001b[38;5;21;01mnetworkx\u001b[39;00m \u001b[38;5;28;01mas\u001b[39;00m \u001b[38;5;21;01mnx\u001b[39;00m\n\u001b[0;32m     14\u001b[0m \u001b[38;5;66;03m#sys.path.append(\"../src/damagescanner\")\u001b[39;00m\n\u001b[1;32m---> 16\u001b[0m \u001b[38;5;28;01mfrom\u001b[39;00m \u001b[38;5;21;01mdamagescanner\u001b[39;00m\u001b[38;5;21;01m.\u001b[39;00m\u001b[38;5;21;01mcore\u001b[39;00m \u001b[38;5;28;01mimport\u001b[39;00m VectorScanner \n\u001b[0;32m     17\u001b[0m \u001b[38;5;28;01mfrom\u001b[39;00m \u001b[38;5;21;01mdamagescanner\u001b[39;00m\u001b[38;5;21;01m.\u001b[39;00m\u001b[38;5;21;01mvector\u001b[39;00m \u001b[38;5;28;01mimport\u001b[39;00m roads,landuse,buildings\n\u001b[0;32m     19\u001b[0m data_path \u001b[38;5;241m=\u001b[39m \u001b[38;5;124m'\u001b[39m\u001b[38;5;124m..\u001b[39m\u001b[38;5;124m'\u001b[39m\n",
      "\u001b[1;31mModuleNotFoundError\u001b[0m: No module named 'damagescanner'"
     ]
    }
   ],
   "source": [
    "import os,sys\n",
    "os.environ['USE_PYGEOS'] = '0'\n",
    "import rasterio\n",
    "import pyproj\n",
    "import shapely\n",
    "import xarray as xr\n",
    "import numpy as np\n",
    "import pandas as pd\n",
    "import geopandas as gpd\n",
    "from tqdm import tqdm\n",
    "import osmnx as ox\n",
    "import networkx as nx\n",
    "\n",
    "#sys.path.append(\"../src/damagescanner\")\n",
    "\n",
    "from damagescanner.core import VectorScanner \n",
    "from damagescanner.vector import roads,landuse,buildings\n",
    "\n",
    "data_path = '..'"
   ]
  },
  {
   "cell_type": "markdown",
   "metadata": {},
   "source": [
    "### Read input data"
   ]
  },
  {
   "cell_type": "code",
   "execution_count": null,
   "metadata": {},
   "outputs": [],
   "source": [
    "inun_map = os.path.join(data_path,'data','hazard','inundation_map.tif')\n",
    "landuse_map = os.path.join(data_path,'data','landuse','landuse.shp')\n",
    "kampen = os.path.join(data_path,'data','landuse','kampen.osm.pbf') "
   ]
  },
  {
   "cell_type": "code",
   "execution_count": null,
   "metadata": {
    "tags": []
   },
   "outputs": [],
   "source": [
    "buildings(kampen).plot()"
   ]
  },
  {
   "cell_type": "code",
   "execution_count": null,
   "metadata": {},
   "outputs": [],
   "source": [
    "place_name = 'Kampen, The Netherlands'\n",
    "cf = '[\"highway\"~\"trunk|motorway|primary|secondary|tertiary\"]'\n",
    "G = ox.graph_from_place(place_name, network_type=\"drive\", custom_filter=cf)\n",
    "\n",
    "roads = gpd.GeoDataFrame(nx.to_pandas_edgelist(G))\n",
    "roads = roads.set_crs(epsg=4326)\n",
    "roads.highway = roads.highway.astype('str')"
   ]
  },
  {
   "cell_type": "markdown",
   "metadata": {},
   "source": [
    "### Create dummy maximum damage dictionary and curves DataFrame"
   ]
  },
  {
   "cell_type": "code",
   "execution_count": null,
   "metadata": {},
   "outputs": [],
   "source": [
    "maxdam = {\"grass\":5,\n",
    "        \"forest\":10,\n",
    "        \"orchard\":50,\n",
    "        \"residential\":200,\n",
    "        \"industrial\":300,\n",
    "        \"retail\":300,\n",
    "        \"farmland\":10,\n",
    "        \"cemetery\":15,\n",
    "        \"construction\":10,\n",
    "        \"meadow\":5,\n",
    "        \"farmyard\":5,\n",
    "        \"scrub\":5,\n",
    "        \"allotments\":10,\n",
    "        \"reservoir\":5,\n",
    "        \"static_caravan\":100,\n",
    "        \"commercial\":300}\n",
    "\n",
    "curves = np.array(\n",
    "            [[0,0],\n",
    "            [50,0.2],\n",
    "            [100,0.4],\n",
    "            [150,0.6],\n",
    "            [200,0.8],\n",
    "            [250,1]])  \n",
    "    \n",
    "curves = np.concatenate((curves,\n",
    "                            np.transpose(np.array([curves[:,1]]*(len(maxdam)-1)))),\n",
    "                           axis=1)\n",
    "\n",
    "curves = pd.DataFrame(curves)\n",
    "curves.columns = ['depth']+list(maxdam.keys())\n",
    "curves.set_index('depth',inplace=True)    "
   ]
  },
  {
   "cell_type": "code",
   "execution_count": null,
   "metadata": {},
   "outputs": [],
   "source": [
    "road_maxdam =  {\"trunk\":500,\n",
    "        \"trunk_link\":500,\n",
    "        \"secondary\":300,\n",
    "        \"primary\":400,\n",
    "        \"tertiary\":200,\n",
    "        \"primary_link\":400,\n",
    "        \"tertiary_link\":200,\n",
    "        \"secondary_link\":300}\n",
    "\n",
    "road_curves = np.array(\n",
    "            [[0,0],\n",
    "            [50,0.2],\n",
    "            [100,0.4],\n",
    "            [150,0.6],\n",
    "            [200,0.8],\n",
    "            [250,1]])  \n",
    "    \n",
    "road_curves = np.concatenate((road_curves,\n",
    "                            np.transpose(np.array([road_curves[:,1]]*(len(road_maxdam)-1)))),\n",
    "                           axis=1)\n",
    "\n",
    "road_curves = pd.DataFrame(road_curves)\n",
    "road_curves.columns = ['depth']+list(road_maxdam.keys())\n",
    "road_curves.set_index('depth',inplace=True)    "
   ]
  },
  {
   "cell_type": "markdown",
   "metadata": {
    "tags": []
   },
   "source": [
    "### Run the VectorScanner"
   ]
  },
  {
   "cell_type": "markdown",
   "metadata": {},
   "source": [
    "For a road system"
   ]
  },
  {
   "cell_type": "code",
   "execution_count": null,
   "metadata": {},
   "outputs": [],
   "source": [
    "%%time\n",
    "road_damage = VectorScanner(roads,\n",
    "                            inun_map,\n",
    "                            road_curves,\n",
    "                            road_maxdam,\n",
    "                            cell_size = 5,\n",
    "                            exp_crs = 4326,\n",
    "                            haz_crs = 28992,\n",
    "                            object_col='highway',\n",
    "                            hazard_col='inun_val',\n",
    "                            centimeters=False,\n",
    "                            save=False)"
   ]
  },
  {
   "cell_type": "markdown",
   "metadata": {},
   "source": [
    "For a vectorized landuse map"
   ]
  },
  {
   "cell_type": "code",
   "execution_count": null,
   "metadata": {},
   "outputs": [],
   "source": [
    "%%time\n",
    "lu_damage = VectorScanner(landuse_map,\n",
    "                            inun_map,\n",
    "                            curves,\n",
    "                            maxdam,\n",
    "                            cell_size = 5,\n",
    "                            exp_crs = 28992,\n",
    "                            haz_crs = 28992,\n",
    "                            object_col='landuse',\n",
    "                            hazard_col='inun_val',\n",
    "                            centimeters=False,\n",
    "                            save=False)"
   ]
  },
  {
   "cell_type": "code",
   "execution_count": null,
   "metadata": {},
   "outputs": [],
   "source": []
  }
 ],
 "metadata": {
  "kernelspec": {
   "display_name": "Python 3 (ipykernel)",
   "language": "python",
   "name": "python3"
  },
  "language_info": {
   "codemirror_mode": {
    "name": "ipython",
    "version": 3
   },
   "file_extension": ".py",
   "mimetype": "text/x-python",
   "name": "python",
   "nbconvert_exporter": "python",
   "pygments_lexer": "ipython3",
   "version": "3.10.9"
  }
 },
 "nbformat": 4,
 "nbformat_minor": 4
}
